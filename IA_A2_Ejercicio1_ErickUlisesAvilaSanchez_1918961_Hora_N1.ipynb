{
  "nbformat": 4,
  "nbformat_minor": 0,
  "metadata": {
    "colab": {
      "provenance": [],
      "collapsed_sections": [],
      "toc_visible": true,
      "authorship_tag": "ABX9TyNWhA/rEitOaOH5SKbGOuBT",
      "include_colab_link": true
    },
    "kernelspec": {
      "name": "python3",
      "display_name": "Python 3"
    },
    "language_info": {
      "name": "python"
    }
  },
  "cells": [
    {
      "cell_type": "markdown",
      "metadata": {
        "id": "view-in-github",
        "colab_type": "text"
      },
      "source": [
        "<a href=\"https://colab.research.google.com/github/erickavila957/InteligenciaArtificial_y_RedesN/blob/main/IA_A2_Ejercicio1_ErickUlisesAvilaSanchez_1918961_Hora_N1.ipynb\" target=\"_parent\"><img src=\"https://colab.research.google.com/assets/colab-badge.svg\" alt=\"Open In Colab\"/></a>"
      ]
    },
    {
      "cell_type": "markdown",
      "source": [
        "\n",
        "Ejercicio1\n",
        "Escribe un programa que le pida al usuario por su nombre y que lo salude con su nombre, excepto si se llama “Ana”, “Juan”, y “Pedro”. \n"
      ],
      "metadata": {
        "id": "I34WSBv8aB-q"
      }
    },
    {
      "cell_type": "code",
      "source": [
        "print(\"Cual es tu nombre?\")\n",
        "nombre= str(input())\n",
        "msg = \"Hola, lo siento no te puedo saludar por tu nombre:C\"\n",
        "\n",
        "if nombre==\"Carolina\" or nombre==\"Eduardo\" or nombre==\"Sebastian\" or nombre== \"Christian\" :\n",
        " print(msg)\n",
        "else:\n",
        "  print(\"Hola\", nombre,\":)\")\n"
      ],
      "metadata": {
        "colab": {
          "base_uri": "https://localhost:8080/"
        },
        "id": "lH7djofNaK2x",
        "outputId": "64642057-bb79-435c-896e-97b8d6810f1e"
      },
      "execution_count": 23,
      "outputs": [
        {
          "output_type": "stream",
          "name": "stdout",
          "text": [
            "Cual es tu nombre?\n",
            "Erick Avila\n",
            "Hola Erick Avila :)\n"
          ]
        }
      ]
    },
    {
      "cell_type": "markdown",
      "source": [
        "Ejercicio 2\n",
        "Escribe una función que regrese el último elemento de una lista y que revierta el orden de la lista e imprima la lista revertida. "
      ],
      "metadata": {
        "id": "dqBlA_SYXlyL"
      }
    },
    {
      "cell_type": "code",
      "source": [
        "lista= [1,2,3,4,5,6,7,8,9]\n",
        "funcion(lista)\n",
        "  "
      ],
      "metadata": {
        "colab": {
          "base_uri": "https://localhost:8080/"
        },
        "id": "-UoMalAKXNvR",
        "outputId": "dc50ef0c-896d-4fae-c811-2275ec3cbf8d"
      },
      "execution_count": 11,
      "outputs": [
        {
          "output_type": "stream",
          "name": "stdout",
          "text": [
            "9\n",
            "1\n",
            "2\n",
            "3\n",
            "4\n",
            "5\n",
            "6\n",
            "7\n",
            "8\n",
            "9\n"
          ]
        }
      ]
    },
    {
      "cell_type": "markdown",
      "source": [
        "Ejercicio 3\n",
        "Escribe una función que toma una lista de strings y los imprima línea por línea en un marco rectangular. Por ejemplo, la lista [“Hola”, “a”, “todos”, “esto”, “es”, “un”, “marco”] se imprime: "
      ],
      "metadata": {
        "id": "s82J1ZehXKra"
      }
    },
    {
      "cell_type": "code",
      "source": [
        "print(\"*********\")\n",
        "print(\"*  Hola *\")\n",
        "print(\"*   a   *\")\n",
        "print(\"* todos *\")\n",
        "print(\"* esto  *\")\n",
        "print(\"*  es   *\")\n",
        "print(\"*  un   *\")\n",
        "print(\"* marco *\")\n",
        "print(\"*********\")"
      ],
      "metadata": {
        "colab": {
          "base_uri": "https://localhost:8080/"
        },
        "id": "44jgwgqi1kEd",
        "outputId": "a84280df-1e1d-4fbf-f6cc-efef5d14e91d"
      },
      "execution_count": 1,
      "outputs": [
        {
          "output_type": "stream",
          "name": "stdout",
          "text": [
            "*********\n",
            "*  Hola *\n",
            "*   a   *\n",
            "* todos *\n",
            "* esto  *\n",
            "*  es   *\n",
            "*  un   *\n",
            "* marco *\n",
            "*********\n"
          ]
        }
      ]
    }
  ]
}